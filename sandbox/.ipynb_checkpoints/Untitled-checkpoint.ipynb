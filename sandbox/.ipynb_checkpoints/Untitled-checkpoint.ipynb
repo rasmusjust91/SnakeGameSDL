{
 "cells": [
  {
   "cell_type": "code",
   "execution_count": 1,
   "id": "accurate-anderson",
   "metadata": {},
   "outputs": [],
   "source": [
    "#include <iostream>\n",
    "using namespace std;"
   ]
  },
  {
   "cell_type": "code",
   "execution_count": 4,
   "id": "established-official",
   "metadata": {},
   "outputs": [],
   "source": [
    "struct Rect\n",
    "{\n",
    "    short h, w, x,y; \n",
    "};"
   ]
  },
  {
   "cell_type": "code",
   "execution_count": 6,
   "id": "better-greeting",
   "metadata": {},
   "outputs": [],
   "source": [
    "Rect rect{1,2,3,4}"
   ]
  },
  {
   "cell_type": "code",
   "execution_count": 10,
   "id": "sixth-detroit",
   "metadata": {},
   "outputs": [],
   "source": [
    "class Food \n",
    "{\n",
    "    public:\n",
    "    Food(Rect r){\n",
    "        rect = r;\n",
    "    };\n",
    "};"
   ]
  },
  {
   "cell_type": "code",
   "execution_count": 13,
   "id": "whole-hawaii",
   "metadata": {},
   "outputs": [],
   "source": [
    "Food food(rect);"
   ]
  },
  {
   "cell_type": "code",
   "execution_count": 16,
   "id": "anticipated-mercy",
   "metadata": {},
   "outputs": [
    {
     "name": "stderr",
     "output_type": "stream",
     "text": [
      "\u001b[1minput_line_28:2:7: \u001b[0m\u001b[0;1;31merror: \u001b[0m\u001b[1mno member named 'rect' in '__cling_N512::Food'\u001b[0m\n",
      " food.rect\n",
      "\u001b[0;1;32m ~~~~ ^\n",
      "\u001b[0m"
     ]
    },
    {
     "ename": "Interpreter Error",
     "evalue": "",
     "output_type": "error",
     "traceback": [
      "Interpreter Error: "
     ]
    }
   ],
   "source": [
    "food.rect"
   ]
  },
  {
   "cell_type": "code",
   "execution_count": null,
   "id": "round-tenant",
   "metadata": {},
   "outputs": [],
   "source": []
  }
 ],
 "metadata": {
  "kernelspec": {
   "display_name": "C++11",
   "language": "C++11",
   "name": "xcpp11"
  },
  "language_info": {
   "codemirror_mode": "text/x-c++src",
   "file_extension": ".cpp",
   "mimetype": "text/x-c++src",
   "name": "c++",
   "version": "11"
  }
 },
 "nbformat": 4,
 "nbformat_minor": 5
}
