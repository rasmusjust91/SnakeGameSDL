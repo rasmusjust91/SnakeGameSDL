{
 "cells": [
  {
   "cell_type": "code",
   "execution_count": 47,
   "id": "sought-charm",
   "metadata": {},
   "outputs": [],
   "source": [
    "#include <iostream>\n",
    "#include </Library/Frameworks/SDL2.framework/Headers/SDL.h>\n",
    "#include <vector>\n",
    "using namespace std;"
   ]
  },
  {
   "cell_type": "code",
   "execution_count": 33,
   "id": "received-asian",
   "metadata": {},
   "outputs": [],
   "source": [
    "SDL_Rect sdl_rect{1,2,3,4};"
   ]
  },
  {
   "cell_type": "code",
   "execution_count": 50,
   "id": "casual-pledge",
   "metadata": {},
   "outputs": [],
   "source": [
    "struct BodyPiece\n",
    "{\n",
    "    short x, y;\n",
    "};\n",
    "\n",
    "std::vector<BodyPiece> snakeLocation;\n"
   ]
  },
  {
   "cell_type": "code",
   "execution_count": 54,
   "id": "legal-landscape",
   "metadata": {},
   "outputs": [],
   "source": [
    "BodyPiece bp{1,2}"
   ]
  },
  {
   "cell_type": "code",
   "execution_count": 56,
   "id": "conscious-joshua",
   "metadata": {},
   "outputs": [],
   "source": [
    "snakeLocation.push_back(bp);"
   ]
  },
  {
   "cell_type": "code",
   "execution_count": 74,
   "id": "sorted-daughter",
   "metadata": {},
   "outputs": [
    {
     "name": "stderr",
     "output_type": "stream",
     "text": [
      "\u001b[1minput_line_100:2:17: \u001b[0m\u001b[0;1;31merror: \u001b[0m\u001b[1mno viable conversion from 'std::__1::vector<__cling_N554::BodyPiece, std::__1::allocator<__cling_N554::BodyPiece>\n",
      "      >::iterator' (aka '__wrap_iter<__cling_N554::BodyPiece *>') to '__cling_N554::BodyPiece'\u001b[0m\n",
      " for (BodyPiece i = snakeLocation.begin(); i!= snakeLocation.end(); ++i){\n",
      "\u001b[0;1;32m                ^   ~~~~~~~~~~~~~~~~~~~~~\n",
      "\u001b[0m\u001b[1minput_line_70:1:8: \u001b[0m\u001b[0;1;30mnote: \u001b[0mcandidate constructor (the implicit copy constructor) not viable: no known conversion from\n",
      "      'std::__1::vector<__cling_N554::BodyPiece, std::__1::allocator<__cling_N554::BodyPiece> >::iterator' (aka\n",
      "      '__wrap_iter<__cling_N554::BodyPiece *>') to 'const __cling_N554::BodyPiece &' for 1st argument\u001b[0m\n",
      "struct BodyPiece\n",
      "\u001b[0;1;32m       ^\n",
      "\u001b[0m\u001b[1minput_line_70:1:8: \u001b[0m\u001b[0;1;30mnote: \u001b[0mcandidate constructor (the implicit move constructor) not viable: no known conversion from\n",
      "      'std::__1::vector<__cling_N554::BodyPiece, std::__1::allocator<__cling_N554::BodyPiece> >::iterator' (aka\n",
      "      '__wrap_iter<__cling_N554::BodyPiece *>') to '__cling_N554::BodyPiece &&' for 1st argument\u001b[0m\n"
     ]
    },
    {
     "ename": "Interpreter Error",
     "evalue": "",
     "output_type": "error",
     "traceback": [
      "Interpreter Error: "
     ]
    }
   ],
   "source": [
    "for (BodyPiece i = snakeLocation.begin(); i!= snakeLocation.end(); ++i){\n",
    "    cout << i << endl;\n",
    "}"
   ]
  },
  {
   "cell_type": "code",
   "execution_count": null,
   "id": "miniature-subsection",
   "metadata": {},
   "outputs": [],
   "source": []
  }
 ],
 "metadata": {
  "kernelspec": {
   "display_name": "C++11",
   "language": "C++11",
   "name": "xcpp11"
  },
  "language_info": {
   "codemirror_mode": "text/x-c++src",
   "file_extension": ".cpp",
   "mimetype": "text/x-c++src",
   "name": "c++",
   "version": "11"
  }
 },
 "nbformat": 4,
 "nbformat_minor": 5
}
